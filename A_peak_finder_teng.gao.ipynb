{
 "cells": [
  {
   "cell_type": "markdown",
   "metadata": {
    "collapsed": true
   },
   "source": [
    "### Task A. Peak Finder\n",
    "\n",
    "这道题需要你用 Python 3 完成一个返回列表 “波峰”（局部最大值）的函数。举个例子，列表 `arr = [0, 1, 2, 5, 1, 0]` 在索引为 3 的位置上有一个波峰，峰值为 5 （ `arr[3]` 为 5 ）。\n",
    "\n",
    "你需要完成一个名为 `find_peaks` 的函数，该函数接收这个列表，并返回一个字典，字典形如 `{\"pos\": [], \"peaks\": []}` 。其中，`pos` 为波峰的索引列表，`peaks` 为峰值的列表，两个列表等长，互相对应，并且索引需从小到大排列。\n",
    "\n",
    "\n",
    "例如：\n",
    "\n",
    "```\n",
    "find_peaks([3, 2, 3, 6, 4, 1, 2, 3, 2, 1, 2, 3])\n",
    "```\n",
    "\n",
    "应该返回\n",
    "\n",
    "```\n",
    "{\"pos\": [3, 7], \"peaks\": [6, 3]}\n",
    "```\n",
    "\n",
    "所有的输入列表均是整数列表（不过也有可能是空列表），你可以不必在代码中专门验证输入。\n",
    "\n",
    "此外，列表中的第一项和最后一项不可能是峰值。\n",
    "\n",
    "对于类似于 `[1, 2, 2, 2, 1]` 的“平台”序列，只需要其平台开始的位置。例如 `find_peaks([1, 2, 2, 2, 1])` 应返回 `{\"pos\": [1], \"peaks\": [2]}`"
   ]
  },
  {
   "cell_type": "code",
   "execution_count": 20,
   "metadata": {},
   "outputs": [],
   "source": [
    "from collections import OrderedDict\n",
    "def find_peaks(arr):\n",
    "    # YOUR CODE HEER\n",
    "    if len(arr) <= 2:\n",
    "        print(\"The array is too short.\")\n",
    "    else:\n",
    "#        dict_peaks = {\"pos\" : [], \"peaks\" : []}\n",
    "        dict_peaks = OrderedDict()\n",
    "        pos_list = []\n",
    "        peaks_list = []\n",
    "        for i in range(1 , len(arr) - 1):\n",
    "            if arr[i] > arr[i-1] and arr[i] > arr[i+1]:\n",
    "                pos_list.append(i)\n",
    "                peaks_list.append(arr[i])\n",
    "        dict_peaks[\"pos\"] = pos_list\n",
    "        dict_peaks[\"peaks\"] = peaks_list\n",
    "\n",
    "\n",
    "        return(dict_peaks)\n",
    "    \n",
    "    "
   ]
  },
  {
   "cell_type": "code",
   "execution_count": 21,
   "metadata": {},
   "outputs": [
    {
     "data": {
      "text/plain": [
       "OrderedDict([('pos', [3, 7]), ('peaks', [6, 3])])"
      ]
     },
     "execution_count": 21,
     "metadata": {},
     "output_type": "execute_result"
    }
   ],
   "source": [
    "test_list = [3, 2, 3, 6, 4, 1, 2, 3, 2, 1, 2, 3]\n",
    "find_peaks(test_list)"
   ]
  },
  {
   "cell_type": "code",
   "execution_count": 5,
   "metadata": {},
   "outputs": [
    {
     "ename": "ModuleNotFoundError",
     "evalue": "No module named 'utils'",
     "output_type": "error",
     "traceback": [
      "\u001b[1;31m---------------------------------------------------------------------------\u001b[0m",
      "\u001b[1;31mModuleNotFoundError\u001b[0m                       Traceback (most recent call last)",
      "\u001b[1;32m<ipython-input-5-9147700ad0b9>\u001b[0m in \u001b[0;36m<module>\u001b[1;34m()\u001b[0m\n\u001b[0;32m      2\u001b[0m \u001b[1;31m## 请运行本 Cell，得到 Test OK 后提交\u001b[0m\u001b[1;33m\u001b[0m\u001b[1;33m\u001b[0m\u001b[0m\n\u001b[0;32m      3\u001b[0m \u001b[1;33m\u001b[0m\u001b[0m\n\u001b[1;32m----> 4\u001b[1;33m \u001b[1;32mfrom\u001b[0m \u001b[0mutils\u001b[0m \u001b[1;32mimport\u001b[0m \u001b[0mTest_PA\u001b[0m\u001b[1;33m\u001b[0m\u001b[0m\n\u001b[0m\u001b[0;32m      5\u001b[0m \u001b[1;33m\u001b[0m\u001b[0m\n\u001b[0;32m      6\u001b[0m \u001b[0mt\u001b[0m \u001b[1;33m=\u001b[0m \u001b[0mTest_PA\u001b[0m\u001b[1;33m(\u001b[0m\u001b[1;33m)\u001b[0m\u001b[1;33m\u001b[0m\u001b[0m\n",
      "\u001b[1;31mModuleNotFoundError\u001b[0m: No module named 'utils'"
     ]
    }
   ],
   "source": [
    "## Testing Code, DO NOT MODIFY\n",
    "## 请运行本 Cell，得到 Test OK 后提交\n",
    "\n",
    "from utils import Test_PA\n",
    "\n",
    "t = Test_PA()\n",
    "t.test(find_peaks)"
   ]
  },
  {
   "cell_type": "code",
   "execution_count": null,
   "metadata": {},
   "outputs": [],
   "source": []
  }
 ],
 "metadata": {
  "anaconda-cloud": {},
  "kernelspec": {
   "display_name": "Python 3",
   "language": "python",
   "name": "python3"
  },
  "language_info": {
   "codemirror_mode": {
    "name": "ipython",
    "version": 3
   },
   "file_extension": ".py",
   "mimetype": "text/x-python",
   "name": "python",
   "nbconvert_exporter": "python",
   "pygments_lexer": "ipython3",
   "version": "3.6.4"
  }
 },
 "nbformat": 4,
 "nbformat_minor": 2
}
